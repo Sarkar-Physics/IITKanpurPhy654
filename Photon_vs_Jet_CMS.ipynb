{
  "cells": [
    {
      "cell_type": "markdown",
      "metadata": {
        "id": "view-in-github",
        "colab_type": "text"
      },
      "source": [
        "<a href=\"https://colab.research.google.com/github/swagata87/IITKanpurPhy654/blob/main/Photon_vs_Jet_CMS.ipynb\" target=\"_parent\"><img src=\"https://colab.research.google.com/assets/colab-badge.svg\" alt=\"Open In Colab\"/></a>"
      ]
    },
    {
      "cell_type": "code",
      "execution_count": null,
      "metadata": {
        "colab": {
          "base_uri": "https://localhost:8080/"
        },
        "id": "ZC8GyxUPWh8O",
        "outputId": "9f434fa2-7bf1-4afa-8d0d-bd247ae28e68"
      },
      "outputs": [
        {
          "name": "stdout",
          "output_type": "stream",
          "text": [
            "--2024-07-11 10:34:43--  https://swmukher.web.cern.ch/swmukher/File_pho_qcd.txt\n",
            "Resolving swmukher.web.cern.ch (swmukher.web.cern.ch)... 188.185.5.88, 188.185.18.46, 137.138.124.182, ...\n",
            "Connecting to swmukher.web.cern.ch (swmukher.web.cern.ch)|188.185.5.88|:443... connected.\n",
            "HTTP request sent, awaiting response... 200 OK\n",
            "Length: 8034925 (7.7M) [text/plain]\n",
            "Saving to: ‘File_pho_qcd.txt’\n",
            "\n",
            "File_pho_qcd.txt    100%[===================>]   7.66M  8.73MB/s    in 0.9s    \n",
            "\n",
            "2024-07-11 10:34:45 (8.73 MB/s) - ‘File_pho_qcd.txt’ saved [8034925/8034925]\n",
            "\n"
          ]
        }
      ],
      "source": [
        "!wget https://swmukher.web.cern.ch/swmukher/File_pho_qcd.txt"
      ]
    },
    {
      "cell_type": "code",
      "execution_count": null,
      "metadata": {
        "colab": {
          "base_uri": "https://localhost:8080/"
        },
        "id": "FmpPrv-JXCrY",
        "outputId": "5f69d78a-10bb-4d17-8d17-8253fe518e6b"
      },
      "outputs": [
        {
          "name": "stdout",
          "output_type": "stream",
          "text": [
            "--2024-07-11 10:35:15--  https://swmukher.web.cern.ch/swmukher/File_pho_Hgg.txt\n",
            "Resolving swmukher.web.cern.ch (swmukher.web.cern.ch)... 188.185.18.46, 137.138.124.182, 188.185.5.88, ...\n",
            "Connecting to swmukher.web.cern.ch (swmukher.web.cern.ch)|188.185.18.46|:443... connected.\n",
            "HTTP request sent, awaiting response... 200 OK\n",
            "Length: 1887805 (1.8M) [text/plain]\n",
            "Saving to: ‘File_pho_Hgg.txt’\n",
            "\n",
            "File_pho_Hgg.txt    100%[===================>]   1.80M  2.67MB/s    in 0.7s    \n",
            "\n",
            "2024-07-11 10:35:17 (2.67 MB/s) - ‘File_pho_Hgg.txt’ saved [1887805/1887805]\n",
            "\n"
          ]
        }
      ],
      "source": [
        "!wget https://swmukher.web.cern.ch/swmukher/File_pho_Hgg.txt"
      ]
    },
    {
      "cell_type": "code",
      "execution_count": null,
      "metadata": {
        "colab": {
          "background_save": true,
          "base_uri": "https://localhost:8080/"
        },
        "id": "2mJCnc8BXMnL",
        "outputId": "b54a32d3-0170-4b11-fd94-54ee9160dc95"
      },
      "outputs": [
        {
          "name": "stdout",
          "output_type": "stream",
          "text": [
            "(22320, 7)\n",
            "(22320, 1)\n",
            "[[ 5.26406517e+01  4.46373284e-01  0.00000000e+00 ...  0.00000000e+00\n",
            "   9.63660061e-01  1.00000000e+00]\n",
            " [ 3.79618073e+01 -1.13020706e+00  3.54106575e-02 ...  1.21794879e+00\n",
            "   6.38888478e-01  1.00000000e+00]\n",
            " [ 5.73583107e+01  2.09697604e+00  3.83176617e-02 ...  2.11623216e+00\n",
            "   9.75641906e-01  1.00000000e+00]\n",
            " ...\n",
            " [ 4.28352776e+01  2.60563350e+00  8.01796559e-03 ...  1.39950466e+00\n",
            "   9.74861026e-01  1.00000000e+00]\n",
            " [ 2.99799404e+01  2.28566557e-01  0.00000000e+00 ...  0.00000000e+00\n",
            "   9.61345434e-01  1.00000000e+00]\n",
            " [ 1.21832838e+01  1.72282076e+00  1.04800269e-01 ...  1.27000999e+00\n",
            "   1.00000000e+00  1.00000000e+00]]\n"
          ]
        }
      ],
      "source": [
        "from numpy import loadtxt\n",
        "import numpy as np\n",
        "\n",
        "# load the dataset\n",
        "X1 = loadtxt('File_pho_Hgg.txt')\n",
        "print (np.shape(X1))\n",
        "\n",
        "y1=np.ones([np.shape(X1)[0],1])\n",
        "print (y1.shape)\n",
        "\n",
        "realPho = np.append(X1, y1, axis=1)\n",
        "print (realPho)\n"
      ]
    },
    {
      "cell_type": "code",
      "execution_count": null,
      "metadata": {
        "colab": {
          "base_uri": "https://localhost:8080/"
        },
        "id": "B2bgfPhtbYvW",
        "outputId": "b482ec3c-9fd8-4b6e-d6b2-8ef22bec03c8"
      },
      "outputs": [
        {
          "name": "stdout",
          "output_type": "stream",
          "text": [
            "(86058, 7)\n",
            "(86058, 1)\n",
            "[[ 6.54636154e+01  2.54364514e+00  8.70304406e-02 ...  9.69956207e+00\n",
            "   8.57073784e-01  0.00000000e+00]\n",
            " [ 3.11988373e+01 -2.58877063e+00  1.99408293e-01 ...  5.14318609e+00\n",
            "   7.00435221e-01  0.00000000e+00]\n",
            " [ 1.48315277e+02  7.08086073e-01  2.02204704e-01 ...  1.79425945e+01\n",
            "   8.25163245e-01  0.00000000e+00]\n",
            " ...\n",
            " [ 2.44487934e+01 -2.35757017e+00  1.92058712e-01 ...  3.85001826e+00\n",
            "   9.02298748e-01  0.00000000e+00]\n",
            " [ 2.32525768e+01  1.36440301e+00  3.67150098e-01 ...  2.42868090e+00\n",
            "   9.29525375e-01  0.00000000e+00]\n",
            " [ 1.78675575e+01 -1.05400038e+00  2.46569559e-01 ...  0.00000000e+00\n",
            "   8.53669703e-01  0.00000000e+00]]\n"
          ]
        }
      ],
      "source": [
        "# load the dataset\n",
        "X2 = loadtxt('File_pho_qcd.txt')\n",
        "print (np.shape(X2))\n",
        "\n",
        "y2=np.zeros([np.shape(X2)[0],1])\n",
        "print (y2.shape)\n",
        "\n",
        "fakePho = np.append(X2, y2, axis=1)\n",
        "print (fakePho)"
      ]
    },
    {
      "cell_type": "code",
      "execution_count": 17,
      "metadata": {
        "id": "0sM0NNmmq6u-",
        "colab": {
          "base_uri": "https://localhost:8080/",
          "height": 452
        },
        "outputId": "b466c9a4-3a9d-436c-9552-6d7c673e56a3"
      },
      "outputs": [
        {
          "output_type": "display_data",
          "data": {
            "text/plain": [
              "<Figure size 640x480 with 1 Axes>"
            ],
            "image/png": "[encoded data removed]"
          },
          "metadata": {}
        }
      ],
      "source": [
        "import matplotlib.pyplot as plt\n",
        "# visualizing the data by plotting\n",
        "pt_pho=realPho[:,0]\n",
        "pt_jet=fakePho[:,0]\n",
        "bins = np.linspace(0, 200, 200)\n",
        "plt.hist(pt_pho, bins, label='real pho', alpha = 0.5, density=True)\n",
        "plt.hist(pt_jet, bins, label='fake pho', alpha = 0.5, density=True)\n",
        "plt.legend(loc='upper right')\n",
        "plt.title(\"pt\")\n",
        "plt.show()"
      ]
    },
    {
      "cell_type": "code",
      "source": [
        "eta_pho=realPho[:,1]\n",
        "eta_jet=fakePho[:,1]\n",
        "bins = np.linspace(-3.5, 3.5, 140)\n",
        "plt.hist(eta_pho, bins, label='real pho', alpha = 0.5, density=True)\n",
        "plt.hist(eta_jet, bins, label='fake pho', alpha = 0.5, density=True)\n",
        "plt.legend(loc='upper center')\n",
        "plt.title(\"eta\")\n",
        "plt.show()"
      ],
      "metadata": {
        "colab": {
          "base_uri": "https://localhost:8080/",
          "height": 452
        },
        "id": "SOCJR4JKrm_g",
        "outputId": "73b9f84a-d48d-4d87-f45c-5d9fcc7d83cf"
      },
      "execution_count": 21,
      "outputs": [
        {
          "output_type": "display_data",
          "data": {
            "text/plain": [
              "<Figure size 640x480 with 1 Axes>"
            ],
            "image/png": "[encoded data removed]"
          },
          "metadata": {}
        }
      ]
    },
    {
      "cell_type": "code",
      "source": [
        "hoe_pho=realPho[:,2]\n",
        "hoe_jet=fakePho[:,2]\n",
        "bins = np.linspace(0, 1.5, 150)\n",
        "plt.hist(hoe_pho, bins, label='real pho', alpha = 0.5, density=True)\n",
        "plt.hist(hoe_jet, bins, label='fake pho', alpha = 0.5, density=True)\n",
        "plt.legend(loc='upper right')\n",
        "plt.title(\"H/E\")\n",
        "plt.yscale('log')\n",
        "plt.show()"
      ],
      "metadata": {
        "colab": {
          "base_uri": "https://localhost:8080/",
          "height": 452
        },
        "id": "HTsjZ8OpsT1q",
        "outputId": "22fbb6b9-ce0a-4861-d707-c2c7e634b299"
      },
      "execution_count": 38,
      "outputs": [
        {
          "output_type": "display_data",
          "data": {
            "text/plain": [
              "<Figure size 640x480 with 1 Axes>"
            ],
            "image/png": "[encoded data removed]"
          },
          "metadata": {}
        }
      ]
    },
    {
      "cell_type": "code",
      "source": [
        "sieie_pho=realPho[:,3]\n",
        "sieie_jet=fakePho[:,3]\n",
        "bins = np.linspace(0, 0.08, 100)\n",
        "plt.hist(sieie_pho, bins, label='real pho', alpha = 0.5, density=True)\n",
        "plt.hist(sieie_jet, bins, label='fake pho', alpha = 0.5, density=True)\n",
        "plt.legend(loc='upper right')\n",
        "plt.title(\"SigmaIEtaIEta\")\n",
        "plt.yscale('log')\n",
        "plt.show()"
      ],
      "metadata": {
        "colab": {
          "base_uri": "https://localhost:8080/",
          "height": 452
        },
        "id": "3YbEn-aIxWTp",
        "outputId": "d1099774-e634-4ec6-e0bc-201ab1a0e92d"
      },
      "execution_count": 34,
      "outputs": [
        {
          "output_type": "display_data",
          "data": {
            "text/plain": [
              "<Figure size 640x480 with 1 Axes>"
            ],
            "image/png": "[encoded data removed]"
          },
          "metadata": {}
        }
      ]
    },
    {
      "cell_type": "code",
      "source": [
        "chIso_pho=realPho[:,4]\n",
        "chIso_jet=fakePho[:,4]\n",
        "bins = np.linspace(0, 8, 100)\n",
        "plt.hist(chIso_pho, bins, label='real pho', alpha = 0.5, density=True)\n",
        "plt.hist(chIso_jet, bins, label='fake pho', alpha = 0.5, density=True)\n",
        "plt.legend(loc='upper right')\n",
        "plt.title(\"Charged hadron isolation\")\n",
        "plt.yscale('log')\n",
        "plt.show()"
      ],
      "metadata": {
        "colab": {
          "base_uri": "https://localhost:8080/",
          "height": 452
        },
        "id": "IpV8Ae3VyBxU",
        "outputId": "7ccb1ce6-40ce-4b02-e6ee-d775d2f8175f"
      },
      "execution_count": 33,
      "outputs": [
        {
          "output_type": "display_data",
          "data": {
            "text/plain": [
              "<Figure size 640x480 with 1 Axes>"
            ],
            "image/png": "[encoded data removed]"
          },
          "metadata": {}
        }
      ]
    },
    {
      "cell_type": "code",
      "source": [
        "neuIso_pho=realPho[:,5]\n",
        "neuIso_jet=fakePho[:,5]\n",
        "bins = np.linspace(0, 8, 100)\n",
        "plt.hist(neuIso_pho, bins, label='real pho', alpha = 0.5, density=True)\n",
        "plt.hist(neuIso_jet, bins, label='fake pho', alpha = 0.5, density=True)\n",
        "plt.legend(loc='upper right')\n",
        "plt.title(\"Neutral hadron isolation\")\n",
        "plt.yscale('log')\n",
        "plt.show()"
      ],
      "metadata": {
        "colab": {
          "base_uri": "https://localhost:8080/",
          "height": 452
        },
        "id": "cb1qmlDu2tYV",
        "outputId": "f5a0a435-b348-473e-ad15-31c485dbb2b2"
      },
      "execution_count": 39,
      "outputs": [
        {
          "output_type": "display_data",
          "data": {
            "text/plain": [
              "<Figure size 640x480 with 1 Axes>"
            ],
            "image/png": "[encoded data removed]"
          },
          "metadata": {}
        }
      ]
    },
    {
      "cell_type": "code",
      "source": [
        "r9_pho=realPho[:,6]\n",
        "r9_jet=fakePho[:,6]\n",
        "bins = np.linspace(0, 2, 200)\n",
        "plt.hist(r9_pho, bins, label='real pho', alpha = 0.5, density=True)\n",
        "plt.hist(r9_jet, bins, label='fake pho', alpha = 0.5, density=True)\n",
        "plt.legend(loc='upper right')\n",
        "plt.title(\"R9\")\n",
        "plt.yscale('log')\n",
        "plt.show()"
      ],
      "metadata": {
        "colab": {
          "base_uri": "https://localhost:8080/",
          "height": 452
        },
        "id": "drUdBF5Q2-DL",
        "outputId": "7398073b-7530-4d1f-a128-e2b0962fa250"
      },
      "execution_count": 41,
      "outputs": [
        {
          "output_type": "display_data",
          "data": {
            "text/plain": [
              "<Figure size 640x480 with 1 Axes>"
            ],
            "image/png": "[encoded data removed]"
          },
          "metadata": {}
        }
      ]
    },
    {
      "cell_type": "code",
      "execution_count": 42,
      "metadata": {
        "colab": {
          "base_uri": "https://localhost:8080/"
        },
        "id": "zPCxQbihYWuH",
        "outputId": "b715e231-a780-4b9e-b612-1a5889705e09"
      },
      "outputs": [
        {
          "output_type": "execute_result",
          "data": {
            "text/plain": [
              "(108378, 8)"
            ]
          },
          "metadata": {},
          "execution_count": 42
        }
      ],
      "source": [
        "allPho = np.append(realPho, fakePho, axis=0)\n",
        "np.shape(allPho)"
      ]
    },
    {
      "cell_type": "code",
      "execution_count": 43,
      "metadata": {
        "id": "dSzw_xnPekaX"
      },
      "outputs": [],
      "source": [
        "np.random.shuffle(allPho)"
      ]
    },
    {
      "cell_type": "code",
      "execution_count": 44,
      "metadata": {
        "colab": {
          "base_uri": "https://localhost:8080/"
        },
        "id": "J-wSsivTeoG_",
        "outputId": "9d877779-e74e-4465-e2dc-378d55ce69f9"
      },
      "outputs": [
        {
          "output_type": "execute_result",
          "data": {
            "text/plain": [
              "array([[31.5419426 , -1.72595549,  0.17332025, ...,  2.16670537,\n",
              "         0.77630359,  0.        ],\n",
              "       [32.11975861,  0.51944435,  0.        , ...,  0.        ,\n",
              "         0.94355565,  1.        ],\n",
              "       [23.08777809,  1.45776772,  0.        , ...,  0.51095492,\n",
              "         0.99726248,  0.        ],\n",
              "       ...,\n",
              "       [27.37487221, -0.95747721,  0.        , ...,  1.42836249,\n",
              "         0.91506213,  0.        ],\n",
              "       [54.29380035, -1.57851446,  0.        , ...,  0.        ,\n",
              "         0.88554227,  1.        ],\n",
              "       [30.29219246,  2.32916737,  0.05721814, ...,  3.34100485,\n",
              "         0.97036523,  0.        ]])"
            ]
          },
          "metadata": {},
          "execution_count": 44
        }
      ],
      "source": [
        "allPho"
      ]
    },
    {
      "cell_type": "code",
      "execution_count": 45,
      "metadata": {
        "id": "cJapUAxqfuB8"
      },
      "outputs": [],
      "source": [
        "# split into input (X) and output (y) variables\n",
        "X = allPho[:,0:7]\n",
        "y = allPho[:,7:8]"
      ]
    },
    {
      "cell_type": "code",
      "execution_count": 46,
      "metadata": {
        "colab": {
          "base_uri": "https://localhost:8080/"
        },
        "id": "__B1laRggD9x",
        "outputId": "140fe1fb-6ceb-4a33-ae4d-fa25f8bf5619"
      },
      "outputs": [
        {
          "output_type": "execute_result",
          "data": {
            "text/plain": [
              "(108378, 1)"
            ]
          },
          "metadata": {},
          "execution_count": 46
        }
      ],
      "source": [
        "np.shape(y)"
      ]
    },
    {
      "cell_type": "code",
      "execution_count": 51,
      "metadata": {
        "colab": {
          "base_uri": "https://localhost:8080/"
        },
        "id": "zWdgJshqgF_m",
        "outputId": "44171780-50b1-492b-a3da-cc87d1c9b38e"
      },
      "outputs": [
        {
          "output_type": "stream",
          "name": "stdout",
          "text": [
            "7\n"
          ]
        }
      ],
      "source": [
        "idim=np.shape(X)[1]\n",
        "print (idim)"
      ]
    },
    {
      "cell_type": "code",
      "execution_count": 48,
      "metadata": {
        "colab": {
          "base_uri": "https://localhost:8080/"
        },
        "id": "6ehjtMMngrFJ",
        "outputId": "a2fc90d1-9443-48b2-e765-8f51b4dd50e9"
      },
      "outputs": [
        {
          "output_type": "execute_result",
          "data": {
            "text/plain": [
              "array([[31.5419426 , -1.72595549,  0.17332025, ...,  0.        ,\n",
              "         2.16670537,  0.77630359],\n",
              "       [32.11975861,  0.51944435,  0.        , ...,  0.35744902,\n",
              "         0.        ,  0.94355565],\n",
              "       [23.08777809,  1.45776772,  0.        , ...,  0.        ,\n",
              "         0.51095492,  0.99726248],\n",
              "       ...,\n",
              "       [27.37487221, -0.95747721,  0.        , ...,  3.63910556,\n",
              "         1.42836249,  0.91506213],\n",
              "       [54.29380035, -1.57851446,  0.        , ...,  0.18535323,\n",
              "         0.        ,  0.88554227],\n",
              "       [30.29219246,  2.32916737,  0.05721814, ...,  1.80864608,\n",
              "         3.34100485,  0.97036523]])"
            ]
          },
          "metadata": {},
          "execution_count": 48
        }
      ],
      "source": [
        "X"
      ]
    },
    {
      "cell_type": "code",
      "execution_count": 49,
      "metadata": {
        "colab": {
          "base_uri": "https://localhost:8080/"
        },
        "id": "zlWok0Yvguw5",
        "outputId": "cee1208e-8e42-4011-f62c-7ab613e2f0b9"
      },
      "outputs": [
        {
          "output_type": "execute_result",
          "data": {
            "text/plain": [
              "array([[0.],\n",
              "       [1.],\n",
              "       [0.],\n",
              "       ...,\n",
              "       [0.],\n",
              "       [1.],\n",
              "       [0.]])"
            ]
          },
          "metadata": {},
          "execution_count": 49
        }
      ],
      "source": [
        "y"
      ]
    },
    {
      "cell_type": "code",
      "execution_count": 54,
      "metadata": {
        "id": "E1Dm6KwvhzsR"
      },
      "outputs": [],
      "source": [
        "import tensorflow as tf\n",
        "from tensorflow.keras.models import Model\n",
        "from tensorflow.keras.layers import Layer\n",
        "from tensorflow.keras.layers import Dense\n",
        "from tensorflow.keras.models import Sequential\n",
        "from tensorflow.keras.optimizers import Adam\n",
        "\n",
        "# define the keras model\n",
        "model = Sequential()\n",
        "model.add(Dense(12, input_dim=idim, activation='relu'))\n",
        "model.add(Dense(8, activation='relu'))\n",
        "model.add(Dense(1, activation='sigmoid'))"
      ]
    },
    {
      "cell_type": "code",
      "source": [
        "model.summary()"
      ],
      "metadata": {
        "colab": {
          "base_uri": "https://localhost:8080/"
        },
        "id": "o5wOp0ZU5Bby",
        "outputId": "d4a731dd-8a1e-420b-e3df-1caddbd59ae4"
      },
      "execution_count": 55,
      "outputs": [
        {
          "output_type": "stream",
          "name": "stdout",
          "text": [
            "Model: \"sequential\"\n",
            "_________________________________________________________________\n",
            " Layer (type)                Output Shape              Param #   \n",
            "=================================================================\n",
            " dense (Dense)               (None, 12)                96        \n",
            "                                                                 \n",
            " dense_1 (Dense)             (None, 8)                 104       \n",
            "                                                                 \n",
            " dense_2 (Dense)             (None, 1)                 9         \n",
            "                                                                 \n",
            "=================================================================\n",
            "Total params: 209 (836.00 Byte)\n",
            "Trainable params: 209 (836.00 Byte)\n",
            "Non-trainable params: 0 (0.00 Byte)\n",
            "_________________________________________________________________\n"
          ]
        }
      ]
    },
    {
      "cell_type": "code",
      "execution_count": 56,
      "metadata": {
        "id": "NaDPRQxrmweP"
      },
      "outputs": [],
      "source": [
        "# compile the keras model\n",
        "model.compile(loss='binary_crossentropy', optimizer='adam', metrics=['accuracy'])"
      ]
    },
    {
      "cell_type": "code",
      "execution_count": 57,
      "metadata": {
        "colab": {
          "base_uri": "https://localhost:8080/"
        },
        "id": "w_3x7VZNm6o6",
        "outputId": "04c172dc-5526-49f4-88ab-546e9fd9c97c"
      },
      "outputs": [
        {
          "output_type": "stream",
          "name": "stdout",
          "text": [
            "Epoch 1/150\n",
            "3387/3387 [==============================] - 8s 2ms/step - loss: 0.4256 - accuracy: 0.8707\n",
            "Epoch 2/150\n",
            "3387/3387 [==============================] - 6s 2ms/step - loss: 0.2818 - accuracy: 0.8914\n",
            "Epoch 3/150\n",
            "3387/3387 [==============================] - 6s 2ms/step - loss: 0.2563 - accuracy: 0.9020\n",
            "Epoch 4/150\n",
            "3387/3387 [==============================] - 6s 2ms/step - loss: 0.2453 - accuracy: 0.9057\n",
            "Epoch 5/150\n",
            "3387/3387 [==============================] - 8s 2ms/step - loss: 0.2394 - accuracy: 0.9088\n",
            "Epoch 6/150\n",
            "3387/3387 [==============================] - 6s 2ms/step - loss: 0.2359 - accuracy: 0.9102\n",
            "Epoch 7/150\n",
            "3387/3387 [==============================] - 6s 2ms/step - loss: 0.2336 - accuracy: 0.9117\n",
            "Epoch 8/150\n",
            "3387/3387 [==============================] - 7s 2ms/step - loss: 0.2315 - accuracy: 0.9119\n",
            "Epoch 9/150\n",
            "3387/3387 [==============================] - 6s 2ms/step - loss: 0.2283 - accuracy: 0.9140\n",
            "Epoch 10/150\n",
            "3387/3387 [==============================] - 7s 2ms/step - loss: 0.2270 - accuracy: 0.9139\n",
            "Epoch 11/150\n",
            "3387/3387 [==============================] - 5s 2ms/step - loss: 0.2257 - accuracy: 0.9147\n",
            "Epoch 12/150\n",
            "3387/3387 [==============================] - 7s 2ms/step - loss: 0.2228 - accuracy: 0.9158\n",
            "Epoch 13/150\n",
            "3387/3387 [==============================] - 6s 2ms/step - loss: 0.2210 - accuracy: 0.9165\n",
            "Epoch 14/150\n",
            "3387/3387 [==============================] - 7s 2ms/step - loss: 0.2197 - accuracy: 0.9165\n",
            "Epoch 15/150\n",
            "3387/3387 [==============================] - 6s 2ms/step - loss: 0.2179 - accuracy: 0.9172\n",
            "Epoch 16/150\n",
            "3387/3387 [==============================] - 7s 2ms/step - loss: 0.2146 - accuracy: 0.9194\n",
            "Epoch 17/150\n",
            "3387/3387 [==============================] - 6s 2ms/step - loss: 0.2114 - accuracy: 0.9207\n",
            "Epoch 18/150\n",
            "3387/3387 [==============================] - 6s 2ms/step - loss: 0.2093 - accuracy: 0.9219\n",
            "Epoch 19/150\n",
            "3387/3387 [==============================] - 6s 2ms/step - loss: 0.2073 - accuracy: 0.9220\n",
            "Epoch 20/150\n",
            "3387/3387 [==============================] - 6s 2ms/step - loss: 0.2057 - accuracy: 0.9225\n",
            "Epoch 21/150\n",
            "3387/3387 [==============================] - 7s 2ms/step - loss: 0.2042 - accuracy: 0.9231\n",
            "Epoch 22/150\n",
            "3387/3387 [==============================] - 6s 2ms/step - loss: 0.2031 - accuracy: 0.9238\n",
            "Epoch 23/150\n",
            "3387/3387 [==============================] - 7s 2ms/step - loss: 0.2014 - accuracy: 0.9244\n",
            "Epoch 24/150\n",
            "3387/3387 [==============================] - 6s 2ms/step - loss: 0.2010 - accuracy: 0.9241\n",
            "Epoch 25/150\n",
            "3387/3387 [==============================] - 7s 2ms/step - loss: 0.2000 - accuracy: 0.9248\n",
            "Epoch 26/150\n",
            "3387/3387 [==============================] - 6s 2ms/step - loss: 0.1987 - accuracy: 0.9253\n",
            "Epoch 27/150\n",
            "3387/3387 [==============================] - 7s 2ms/step - loss: 0.1991 - accuracy: 0.9252\n",
            "Epoch 28/150\n",
            "3387/3387 [==============================] - 6s 2ms/step - loss: 0.1980 - accuracy: 0.9256\n",
            "Epoch 29/150\n",
            "3387/3387 [==============================] - 7s 2ms/step - loss: 0.1979 - accuracy: 0.9254\n",
            "Epoch 30/150\n",
            "3387/3387 [==============================] - 6s 2ms/step - loss: 0.1975 - accuracy: 0.9252\n",
            "Epoch 31/150\n",
            "3387/3387 [==============================] - 6s 2ms/step - loss: 0.1966 - accuracy: 0.9260\n",
            "Epoch 32/150\n",
            "3387/3387 [==============================] - 6s 2ms/step - loss: 0.1975 - accuracy: 0.9250\n",
            "Epoch 33/150\n",
            "3387/3387 [==============================] - 6s 2ms/step - loss: 0.1973 - accuracy: 0.9257\n",
            "Epoch 34/150\n",
            "3387/3387 [==============================] - 7s 2ms/step - loss: 0.1961 - accuracy: 0.9266\n",
            "Epoch 35/150\n",
            "3387/3387 [==============================] - 6s 2ms/step - loss: 0.1957 - accuracy: 0.9263\n",
            "Epoch 36/150\n",
            "3387/3387 [==============================] - 7s 2ms/step - loss: 0.1946 - accuracy: 0.9269\n",
            "Epoch 37/150\n",
            "3387/3387 [==============================] - 6s 2ms/step - loss: 0.1951 - accuracy: 0.9266\n",
            "Epoch 38/150\n",
            "3387/3387 [==============================] - 7s 2ms/step - loss: 0.1948 - accuracy: 0.9263\n",
            "Epoch 39/150\n",
            "3387/3387 [==============================] - 6s 2ms/step - loss: 0.1943 - accuracy: 0.9267\n",
            "Epoch 40/150\n",
            "3387/3387 [==============================] - 7s 2ms/step - loss: 0.1943 - accuracy: 0.9275\n",
            "Epoch 41/150\n",
            "3387/3387 [==============================] - 6s 2ms/step - loss: 0.1947 - accuracy: 0.9272\n",
            "Epoch 42/150\n",
            "3387/3387 [==============================] - 7s 2ms/step - loss: 0.1936 - accuracy: 0.9273\n",
            "Epoch 43/150\n",
            "3387/3387 [==============================] - 6s 2ms/step - loss: 0.1933 - accuracy: 0.9274\n",
            "Epoch 44/150\n",
            "3387/3387 [==============================] - 6s 2ms/step - loss: 0.1928 - accuracy: 0.9279\n",
            "Epoch 45/150\n",
            "3387/3387 [==============================] - 6s 2ms/step - loss: 0.1932 - accuracy: 0.9270\n",
            "Epoch 46/150\n",
            "3387/3387 [==============================] - 6s 2ms/step - loss: 0.1926 - accuracy: 0.9272\n",
            "Epoch 47/150\n",
            "3387/3387 [==============================] - 7s 2ms/step - loss: 0.1920 - accuracy: 0.9280\n",
            "Epoch 48/150\n",
            "3387/3387 [==============================] - 6s 2ms/step - loss: 0.1922 - accuracy: 0.9277\n",
            "Epoch 49/150\n",
            "3387/3387 [==============================] - 7s 2ms/step - loss: 0.1912 - accuracy: 0.9284\n",
            "Epoch 50/150\n",
            "3387/3387 [==============================] - 6s 2ms/step - loss: 0.1916 - accuracy: 0.9283\n",
            "Epoch 51/150\n",
            "3387/3387 [==============================] - 7s 2ms/step - loss: 0.1910 - accuracy: 0.9284\n",
            "Epoch 52/150\n",
            "3387/3387 [==============================] - 6s 2ms/step - loss: 0.1907 - accuracy: 0.9293\n",
            "Epoch 53/150\n",
            "3387/3387 [==============================] - 7s 2ms/step - loss: 0.1911 - accuracy: 0.9282\n",
            "Epoch 54/150\n",
            "3387/3387 [==============================] - 6s 2ms/step - loss: 0.1911 - accuracy: 0.9286\n",
            "Epoch 55/150\n",
            "3387/3387 [==============================] - 7s 2ms/step - loss: 0.1906 - accuracy: 0.9285\n",
            "Epoch 56/150\n",
            "3387/3387 [==============================] - 6s 2ms/step - loss: 0.1897 - accuracy: 0.9292\n",
            "Epoch 57/150\n",
            "3387/3387 [==============================] - 7s 2ms/step - loss: 0.1903 - accuracy: 0.9288\n",
            "Epoch 58/150\n",
            "3387/3387 [==============================] - 6s 2ms/step - loss: 0.1903 - accuracy: 0.9289\n",
            "Epoch 59/150\n",
            "3387/3387 [==============================] - 7s 2ms/step - loss: 0.1896 - accuracy: 0.9292\n",
            "Epoch 60/150\n",
            "3387/3387 [==============================] - 6s 2ms/step - loss: 0.1897 - accuracy: 0.9285\n",
            "Epoch 61/150\n",
            "3387/3387 [==============================] - 6s 2ms/step - loss: 0.1888 - accuracy: 0.9293\n",
            "Epoch 62/150\n",
            "3387/3387 [==============================] - 7s 2ms/step - loss: 0.1888 - accuracy: 0.9296\n",
            "Epoch 63/150\n",
            "3387/3387 [==============================] - 6s 2ms/step - loss: 0.1888 - accuracy: 0.9290\n",
            "Epoch 64/150\n",
            "3387/3387 [==============================] - 7s 2ms/step - loss: 0.1879 - accuracy: 0.9295\n",
            "Epoch 65/150\n",
            "3387/3387 [==============================] - 6s 2ms/step - loss: 0.1885 - accuracy: 0.9291\n",
            "Epoch 66/150\n",
            "3387/3387 [==============================] - 7s 2ms/step - loss: 0.1884 - accuracy: 0.9290\n",
            "Epoch 67/150\n",
            "3387/3387 [==============================] - 6s 2ms/step - loss: 0.1875 - accuracy: 0.9300\n",
            "Epoch 68/150\n",
            "3387/3387 [==============================] - 7s 2ms/step - loss: 0.1876 - accuracy: 0.9300\n",
            "Epoch 69/150\n",
            "3387/3387 [==============================] - 6s 2ms/step - loss: 0.1881 - accuracy: 0.9300\n",
            "Epoch 70/150\n",
            "3387/3387 [==============================] - 7s 2ms/step - loss: 0.1869 - accuracy: 0.9300\n",
            "Epoch 71/150\n",
            "3387/3387 [==============================] - 6s 2ms/step - loss: 0.1872 - accuracy: 0.9299\n",
            "Epoch 72/150\n",
            "3387/3387 [==============================] - 8s 2ms/step - loss: 0.1867 - accuracy: 0.9300\n",
            "Epoch 73/150\n",
            "3387/3387 [==============================] - 6s 2ms/step - loss: 0.1863 - accuracy: 0.9301\n",
            "Epoch 74/150\n",
            "3387/3387 [==============================] - 7s 2ms/step - loss: 0.1859 - accuracy: 0.9300\n",
            "Epoch 75/150\n",
            "3387/3387 [==============================] - 6s 2ms/step - loss: 0.1855 - accuracy: 0.9310\n",
            "Epoch 76/150\n",
            "3387/3387 [==============================] - 7s 2ms/step - loss: 0.1857 - accuracy: 0.9304\n",
            "Epoch 77/150\n",
            "3387/3387 [==============================] - 6s 2ms/step - loss: 0.1858 - accuracy: 0.9304\n",
            "Epoch 78/150\n",
            "3387/3387 [==============================] - 7s 2ms/step - loss: 0.1852 - accuracy: 0.9309\n",
            "Epoch 79/150\n",
            "3387/3387 [==============================] - 6s 2ms/step - loss: 0.1854 - accuracy: 0.9308\n",
            "Epoch 80/150\n",
            "3387/3387 [==============================] - 8s 2ms/step - loss: 0.1849 - accuracy: 0.9308\n",
            "Epoch 81/150\n",
            "3387/3387 [==============================] - 6s 2ms/step - loss: 0.1847 - accuracy: 0.9310\n",
            "Epoch 82/150\n",
            "3387/3387 [==============================] - 8s 2ms/step - loss: 0.1843 - accuracy: 0.9312\n",
            "Epoch 83/150\n",
            "3387/3387 [==============================] - 6s 2ms/step - loss: 0.1845 - accuracy: 0.9312\n",
            "Epoch 84/150\n",
            "3387/3387 [==============================] - 8s 2ms/step - loss: 0.1848 - accuracy: 0.9312\n",
            "Epoch 85/150\n",
            "3387/3387 [==============================] - 6s 2ms/step - loss: 0.1844 - accuracy: 0.9312\n",
            "Epoch 86/150\n",
            "3387/3387 [==============================] - 7s 2ms/step - loss: 0.1838 - accuracy: 0.9307\n",
            "Epoch 87/150\n",
            "3387/3387 [==============================] - 6s 2ms/step - loss: 0.1837 - accuracy: 0.9320\n",
            "Epoch 88/150\n",
            "3387/3387 [==============================] - 7s 2ms/step - loss: 0.1840 - accuracy: 0.9314\n",
            "Epoch 89/150\n",
            "3387/3387 [==============================] - 6s 2ms/step - loss: 0.1828 - accuracy: 0.9323\n",
            "Epoch 90/150\n",
            "3387/3387 [==============================] - 7s 2ms/step - loss: 0.1837 - accuracy: 0.9314\n",
            "Epoch 91/150\n",
            "3387/3387 [==============================] - 6s 2ms/step - loss: 0.1837 - accuracy: 0.9321\n",
            "Epoch 92/150\n",
            "3387/3387 [==============================] - 7s 2ms/step - loss: 0.1834 - accuracy: 0.9319\n",
            "Epoch 93/150\n",
            "3387/3387 [==============================] - 6s 2ms/step - loss: 0.1833 - accuracy: 0.9320\n",
            "Epoch 94/150\n",
            "3387/3387 [==============================] - 7s 2ms/step - loss: 0.1828 - accuracy: 0.9324\n",
            "Epoch 95/150\n",
            "3387/3387 [==============================] - 7s 2ms/step - loss: 0.1830 - accuracy: 0.9322\n",
            "Epoch 96/150\n",
            "3387/3387 [==============================] - 7s 2ms/step - loss: 0.1824 - accuracy: 0.9323\n",
            "Epoch 97/150\n",
            "3387/3387 [==============================] - 7s 2ms/step - loss: 0.1828 - accuracy: 0.9313\n",
            "Epoch 98/150\n",
            "3387/3387 [==============================] - 7s 2ms/step - loss: 0.1823 - accuracy: 0.9323\n",
            "Epoch 99/150\n",
            "3387/3387 [==============================] - 6s 2ms/step - loss: 0.1821 - accuracy: 0.9324\n",
            "Epoch 100/150\n",
            "3387/3387 [==============================] - 7s 2ms/step - loss: 0.1817 - accuracy: 0.9328\n",
            "Epoch 101/150\n",
            "3387/3387 [==============================] - 6s 2ms/step - loss: 0.1822 - accuracy: 0.9321\n",
            "Epoch 102/150\n",
            "3387/3387 [==============================] - 7s 2ms/step - loss: 0.1814 - accuracy: 0.9322\n",
            "Epoch 103/150\n",
            "3387/3387 [==============================] - 11s 3ms/step - loss: 0.1812 - accuracy: 0.9325\n",
            "Epoch 104/150\n",
            "3387/3387 [==============================] - 7s 2ms/step - loss: 0.1805 - accuracy: 0.9330\n",
            "Epoch 105/150\n",
            "3387/3387 [==============================] - 6s 2ms/step - loss: 0.1816 - accuracy: 0.9325\n",
            "Epoch 106/150\n",
            "3387/3387 [==============================] - 7s 2ms/step - loss: 0.1808 - accuracy: 0.9327\n",
            "Epoch 107/150\n",
            "3387/3387 [==============================] - 6s 2ms/step - loss: 0.1798 - accuracy: 0.9330\n",
            "Epoch 108/150\n",
            "3387/3387 [==============================] - 7s 2ms/step - loss: 0.1802 - accuracy: 0.9334\n",
            "Epoch 109/150\n",
            "3387/3387 [==============================] - 6s 2ms/step - loss: 0.1801 - accuracy: 0.9323\n",
            "Epoch 110/150\n",
            "3387/3387 [==============================] - 7s 2ms/step - loss: 0.1797 - accuracy: 0.9330\n",
            "Epoch 111/150\n",
            "3387/3387 [==============================] - 6s 2ms/step - loss: 0.1790 - accuracy: 0.9331\n",
            "Epoch 112/150\n",
            "3387/3387 [==============================] - 7s 2ms/step - loss: 0.1791 - accuracy: 0.9335\n",
            "Epoch 113/150\n",
            "3387/3387 [==============================] - 6s 2ms/step - loss: 0.1784 - accuracy: 0.9341\n",
            "Epoch 114/150\n",
            "3387/3387 [==============================] - 7s 2ms/step - loss: 0.1794 - accuracy: 0.9335\n",
            "Epoch 115/150\n",
            "3387/3387 [==============================] - 6s 2ms/step - loss: 0.1789 - accuracy: 0.9338\n",
            "Epoch 116/150\n",
            "3387/3387 [==============================] - 7s 2ms/step - loss: 0.1787 - accuracy: 0.9335\n",
            "Epoch 117/150\n",
            "3387/3387 [==============================] - 6s 2ms/step - loss: 0.1786 - accuracy: 0.9334\n",
            "Epoch 118/150\n",
            "3387/3387 [==============================] - 7s 2ms/step - loss: 0.1782 - accuracy: 0.9336\n",
            "Epoch 119/150\n",
            "3387/3387 [==============================] - 6s 2ms/step - loss: 0.1770 - accuracy: 0.9345\n",
            "Epoch 120/150\n",
            "3387/3387 [==============================] - 7s 2ms/step - loss: 0.1778 - accuracy: 0.9344\n",
            "Epoch 121/150\n",
            "3387/3387 [==============================] - 6s 2ms/step - loss: 0.1774 - accuracy: 0.9341\n",
            "Epoch 122/150\n",
            "3387/3387 [==============================] - 7s 2ms/step - loss: 0.1772 - accuracy: 0.9341\n",
            "Epoch 123/150\n",
            "3387/3387 [==============================] - 6s 2ms/step - loss: 0.1768 - accuracy: 0.9344\n",
            "Epoch 124/150\n",
            "3387/3387 [==============================] - 7s 2ms/step - loss: 0.1761 - accuracy: 0.9345\n",
            "Epoch 125/150\n",
            "3387/3387 [==============================] - 6s 2ms/step - loss: 0.1762 - accuracy: 0.9345\n",
            "Epoch 126/150\n",
            "3387/3387 [==============================] - 7s 2ms/step - loss: 0.1751 - accuracy: 0.9350\n",
            "Epoch 127/150\n",
            "3387/3387 [==============================] - 6s 2ms/step - loss: 0.1758 - accuracy: 0.9349\n",
            "Epoch 128/150\n",
            "3387/3387 [==============================] - 6s 2ms/step - loss: 0.1757 - accuracy: 0.9350\n",
            "Epoch 129/150\n",
            "3387/3387 [==============================] - 6s 2ms/step - loss: 0.1752 - accuracy: 0.9358\n",
            "Epoch 130/150\n",
            "3387/3387 [==============================] - 6s 2ms/step - loss: 0.1743 - accuracy: 0.9352\n",
            "Epoch 131/150\n",
            "3387/3387 [==============================] - 6s 2ms/step - loss: 0.1741 - accuracy: 0.9354\n",
            "Epoch 132/150\n",
            "3387/3387 [==============================] - 6s 2ms/step - loss: 0.1746 - accuracy: 0.9354\n",
            "Epoch 133/150\n",
            "3387/3387 [==============================] - 7s 2ms/step - loss: 0.1744 - accuracy: 0.9348\n",
            "Epoch 134/150\n",
            "3387/3387 [==============================] - 6s 2ms/step - loss: 0.1737 - accuracy: 0.9358\n",
            "Epoch 135/150\n",
            "3387/3387 [==============================] - 7s 2ms/step - loss: 0.1738 - accuracy: 0.9356\n",
            "Epoch 136/150\n",
            "3387/3387 [==============================] - 6s 2ms/step - loss: 0.1738 - accuracy: 0.9357\n",
            "Epoch 137/150\n",
            "3387/3387 [==============================] - 7s 2ms/step - loss: 0.1731 - accuracy: 0.9358\n",
            "Epoch 138/150\n",
            "3387/3387 [==============================] - 6s 2ms/step - loss: 0.1732 - accuracy: 0.9358\n",
            "Epoch 139/150\n",
            "3387/3387 [==============================] - 7s 2ms/step - loss: 0.1729 - accuracy: 0.9362\n",
            "Epoch 140/150\n",
            "3387/3387 [==============================] - 6s 2ms/step - loss: 0.1722 - accuracy: 0.9363\n",
            "Epoch 141/150\n",
            "3387/3387 [==============================] - 7s 2ms/step - loss: 0.1733 - accuracy: 0.9360\n",
            "Epoch 142/150\n",
            "3387/3387 [==============================] - 6s 2ms/step - loss: 0.1728 - accuracy: 0.9361\n",
            "Epoch 143/150\n",
            "3387/3387 [==============================] - 7s 2ms/step - loss: 0.1720 - accuracy: 0.9359\n",
            "Epoch 144/150\n",
            "3387/3387 [==============================] - 6s 2ms/step - loss: 0.1718 - accuracy: 0.9366\n",
            "Epoch 145/150\n",
            "3387/3387 [==============================] - 7s 2ms/step - loss: 0.1721 - accuracy: 0.9362\n",
            "Epoch 146/150\n",
            "3387/3387 [==============================] - 6s 2ms/step - loss: 0.1716 - accuracy: 0.9367\n",
            "Epoch 147/150\n",
            "3387/3387 [==============================] - 7s 2ms/step - loss: 0.1711 - accuracy: 0.9367\n",
            "Epoch 148/150\n",
            "3387/3387 [==============================] - 6s 2ms/step - loss: 0.1717 - accuracy: 0.9369\n",
            "Epoch 149/150\n",
            "3387/3387 [==============================] - 7s 2ms/step - loss: 0.1716 - accuracy: 0.9365\n",
            "Epoch 150/150\n",
            "3387/3387 [==============================] - 6s 2ms/step - loss: 0.1714 - accuracy: 0.9364\n"
          ]
        },
        {
          "output_type": "execute_result",
          "data": {
            "text/plain": [
              "<keras.src.callbacks.History at 0x7e4201462dd0>"
            ]
          },
          "metadata": {},
          "execution_count": 57
        }
      ],
      "source": [
        "# fit the keras model on the dataset\n",
        "model.fit(X, y, epochs=150, batch_size=32)"
      ]
    }
  ],
  "metadata": {
    "colab": {
      "provenance": [],
      "authorship_tag": "ABX9TyOVasjT+aZJ1vFbfLD7OuPw",
      "include_colab_link": true
    },
    "kernelspec": {
      "display_name": "Python 3",
      "name": "python3"
    },
    "language_info": {
      "name": "python"
    }
  },
  "nbformat": 4,
  "nbformat_minor": 0
}