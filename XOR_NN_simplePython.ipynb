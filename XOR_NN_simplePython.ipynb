{
  "nbformat": 4,
  "nbformat_minor": 0,
  "metadata": {
    "colab": {
      "provenance": [],
      "authorship_tag": "ABX9TyM9QKSTcLu8JJikveN4PSlJ",
      "include_colab_link": true
    },
    "kernelspec": {
      "name": "python3",
      "display_name": "Python 3"
    },
    "language_info": {
      "name": "python"
    }
  },
  "cells": [
    {
      "cell_type": "markdown",
      "metadata": {
        "id": "view-in-github",
        "colab_type": "text"
      },
      "source": [
        "<a href=\"https://colab.research.google.com/github/swagata87/IITKanpurPhy654/blob/main/XOR_NN_simplePython.ipynb\" target=\"_parent\"><img src=\"https://colab.research.google.com/assets/colab-badge.svg\" alt=\"Open In Colab\"/></a>"
      ]
    },
    {
      "cell_type": "code",
      "execution_count": 35,
      "metadata": {
        "id": "OcHhgJXJrOtz"
      },
      "outputs": [],
      "source": [
        "import numpy as np"
      ]
    },
    {
      "cell_type": "code",
      "source": [
        "class NeuralNetwork:\n",
        "    def __init__(self, input_size, hidden_size, output_size):\n",
        "        self.input_size = input_size\n",
        "        self.hidden_size = hidden_size\n",
        "        self.output_size = output_size\n",
        "\n",
        "        # Initialize weights\n",
        "        self.weights_input_hidden = np.random.randn(self.input_size, self.hidden_size)\n",
        "        self.weights_hidden_output = np.random.randn(self.hidden_size, self.output_size,)\n",
        "        #print ('shape of weights_input_hidden ', np.shape(self.weights_input_hidden))\n",
        "\n",
        "        # Initialize the biases\n",
        "        self.bias_hidden = np.zeros((1, self.hidden_size))\n",
        "        self.bias_output = np.zeros((1, self.output_size))\n",
        "        #print ('bias 1 shape ', np.shape(self.bias_hidden))\n",
        "        #print ('bias 2 shape ', np.shape(self.bias_output))\n",
        "\n",
        "    def sigmoid(self, x):\n",
        "        return 1 / (1 + np.exp(-x))\n",
        "\n",
        "    def sigmoid_derivative(self, x):\n",
        "        return x * (1 - x)\n",
        "\n",
        "    def feedforward(self, X):\n",
        "        # Input to hidden\n",
        "        #print ('shape of X', np.shape(X))\n",
        "        self.hidden_activation = np.dot(X, self.weights_input_hidden) + self.bias_hidden\n",
        "        self.hidden_output = self.sigmoid(self.hidden_activation)\n",
        "\n",
        "        # Hidden to output\n",
        "        self.output_activation = np.dot(self.hidden_output, self.weights_hidden_output) + self.bias_output\n",
        "        self.predicted_output = self.sigmoid(self.output_activation)\n",
        "\n",
        "        return self.predicted_output\n",
        "\n",
        "    def backward(self, X, y, learning_rate):\n",
        "        # Compute the output layer error\n",
        "        output_error = y - self.predicted_output\n",
        "        output_delta = output_error * self.sigmoid_derivative(self.predicted_output)\n",
        "\n",
        "        # Compute the hidden layer error\n",
        "        hidden_error = np.dot(output_delta, self.weights_hidden_output.T)\n",
        "        hidden_delta = hidden_error * self.sigmoid_derivative(self.hidden_output)\n",
        "\n",
        "        # Update weights and biases\n",
        "        self.weights_hidden_output += np.dot(self.hidden_output.T, output_delta) * learning_rate\n",
        "        self.bias_output += np.sum(output_delta, axis=0, keepdims=True) * learning_rate\n",
        "        self.weights_input_hidden += np.dot(X.T, hidden_delta) * learning_rate\n",
        "        self.bias_hidden += np.sum(hidden_delta, axis=0, keepdims=True) * learning_rate\n",
        "\n",
        "    def train(self, X, y, epochs, learning_rate):\n",
        "        for epoch in range(epochs):\n",
        "            output = self.feedforward(X)\n",
        "            self.backward(X, y, learning_rate)\n",
        "            if epoch % 1000 == 0:\n",
        "                loss = np.mean(np.square(y - output))\n",
        "                print('Epoch ', {epoch}, 'Loss ', {loss})\n",
        ""
      ],
      "metadata": {
        "id": "mLgj-sGJrgPf"
      },
      "execution_count": 40,
      "outputs": []
    },
    {
      "cell_type": "code",
      "source": [
        "X = np.array([[0, 0], [0, 1], [1, 0], [1, 1]])\n",
        "y = np.array([[0], [1], [1], [0]])"
      ],
      "metadata": {
        "id": "Bvv1IbDNsopJ"
      },
      "execution_count": 41,
      "outputs": []
    },
    {
      "cell_type": "code",
      "source": [
        "nn = NeuralNetwork(input_size=2, hidden_size=4, output_size=1)\n",
        "nn.train(X, y, epochs=10000, learning_rate=0.1)"
      ],
      "metadata": {
        "colab": {
          "base_uri": "https://localhost:8080/"
        },
        "id": "Wbf8Lk3Fsw8c",
        "outputId": "f22dc8e0-527e-4e2c-fe14-3708527b7afb"
      },
      "execution_count": 42,
      "outputs": [
        {
          "output_type": "stream",
          "name": "stdout",
          "text": [
            "Epoch  {0} Loss  {0.3229939450585957}\n",
            "Epoch  {1000} Loss  {0.1838365348865214}\n",
            "Epoch  {2000} Loss  {0.07894599444922107}\n",
            "Epoch  {3000} Loss  {0.024573130271717303}\n",
            "Epoch  {4000} Loss  {0.01146967583143375}\n",
            "Epoch  {5000} Loss  {0.006941334058080121}\n",
            "Epoch  {6000} Loss  {0.004824207106999063}\n",
            "Epoch  {7000} Loss  {0.0036386249942742073}\n",
            "Epoch  {8000} Loss  {0.0028940318257656616}\n",
            "Epoch  {9000} Loss  {0.002388351373153948}\n"
          ]
        }
      ]
    },
    {
      "cell_type": "markdown",
      "source": [
        "**After training, the neural network is tested on the XOR dataset (X) to see how well it has learned the XOR function**"
      ],
      "metadata": {
        "id": "kMRosGZ1t0_7"
      }
    },
    {
      "cell_type": "code",
      "source": [
        "# Test the trained model\n",
        "output = nn.feedforward(X)\n",
        "print('Predictions after training: ')\n",
        "print(output)"
      ],
      "metadata": {
        "colab": {
          "base_uri": "https://localhost:8080/"
        },
        "id": "YGFXm6hmtZY3",
        "outputId": "4c410378-73d6-4790-8417-ec6349face5c"
      },
      "execution_count": 43,
      "outputs": [
        {
          "output_type": "stream",
          "name": "stdout",
          "text": [
            "Predictions after training: \n",
            "[[0.02709992]\n",
            " [0.95949379]\n",
            " [0.95518875]\n",
            " [0.06096543]]\n"
          ]
        }
      ]
    }
  ]
}