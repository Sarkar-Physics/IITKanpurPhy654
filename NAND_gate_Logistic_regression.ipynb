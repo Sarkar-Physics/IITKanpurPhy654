{
  "nbformat": 4,
  "nbformat_minor": 0,
  "metadata": {
    "colab": {
      "provenance": [],
      "authorship_tag": "ABX9TyPzUOgMrgWtuEuIRAQyzpFm",
      "include_colab_link": true
    },
    "kernelspec": {
      "name": "python3",
      "display_name": "Python 3"
    },
    "language_info": {
      "name": "python"
    }
  },
  "cells": [
    {
      "cell_type": "markdown",
      "metadata": {
        "id": "view-in-github",
        "colab_type": "text"
      },
      "source": [
        "<a href=\"https://colab.research.google.com/github/swagata87/IITKanpurPhy654/blob/main/NAND_gate_Logistic_regression.ipynb\" target=\"_parent\"><img src=\"https://colab.research.google.com/assets/colab-badge.svg\" alt=\"Open In Colab\"/></a>"
      ]
    },
    {
      "cell_type": "code",
      "execution_count": 19,
      "metadata": {
        "id": "6Be2eDgzVg3P"
      },
      "outputs": [],
      "source": [
        "import numpy as np"
      ]
    },
    {
      "cell_type": "code",
      "source": [
        "class LogisticReg:\n",
        "    def __init__(self, input_size, output_size):\n",
        "        self.input_size = input_size\n",
        "        self.output_size = output_size\n",
        "\n",
        "        # Initialize weights\n",
        "        self.weights = np.random.randn(self.input_size, self.output_size,)\n",
        "        #print ('shape of weights ', np.shape(self.weights))\n",
        "\n",
        "        # Initialize the biases\n",
        "        self.bias = np.zeros((1, self.output_size))\n",
        "        #print ('bias shape ', np.shape(self.bias))\n",
        "\n",
        "    def sigmoid(self, x):\n",
        "        return 1 / (1 + np.exp(-x))\n",
        "\n",
        "    def sigmoid_derivative(self, x):\n",
        "        return x * (1 - x)\n",
        "\n",
        "    def feedforward(self, X):\n",
        "        #print ('shape of X', np.shape(X))\n",
        "        self.activation = np.dot(X, self.weights) + self.bias\n",
        "        #print ('activation shape ' , np.shape(self.activation))\n",
        "        self.predicted_output = self.sigmoid(self.activation)\n",
        "\n",
        "        return self.predicted_output\n",
        "\n",
        "    def backward(self, X, y, learning_rate):\n",
        "        # Compute the output layer error (simple mean-square loss)\n",
        "        output_error = y - self.predicted_output\n",
        "        output_delta = output_error * self.sigmoid_derivative(self.predicted_output)\n",
        "\n",
        "        # Update weights and biases\n",
        "        self.weights += np.dot(X.T, output_delta) * learning_rate\n",
        "        self.bias += np.sum(output_delta, axis=0, keepdims=True) * learning_rate\n",
        "\n",
        "    def train(self, X, y, epochs, learning_rate):\n",
        "        for epoch in range(epochs):\n",
        "            output = self.feedforward(X)\n",
        "            self.backward(X, y, learning_rate)\n",
        "            if epoch % 1000 == 0:\n",
        "                loss = np.mean(np.square(y - output))\n",
        "                print('Epoch ', {epoch}, 'Loss ', {loss})"
      ],
      "metadata": {
        "id": "JQtzezXNVwno"
      },
      "execution_count": 20,
      "outputs": []
    },
    {
      "cell_type": "code",
      "source": [
        "X = np.array([[0, 0], [0, 1], [1, 0], [1, 1]])\n",
        "y = np.array([[1], [1], [1], [0]])"
      ],
      "metadata": {
        "id": "Ln91_RpHYLQj"
      },
      "execution_count": 21,
      "outputs": []
    },
    {
      "cell_type": "markdown",
      "source": [
        "![Screen Shot 2024-07-11 at 11.38.54.png](data:image/png;base64,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)"
      ],
      "metadata": {
        "id": "D6jqtW-6aRIe"
      }
    },
    {
      "cell_type": "code",
      "source": [
        "nn = LogisticReg(input_size=2, output_size=1)\n",
        "nn.train(X, y, epochs=20000, learning_rate=0.1)"
      ],
      "metadata": {
        "colab": {
          "base_uri": "https://localhost:8080/"
        },
        "id": "fcIf-k3mY3Ta",
        "outputId": "34e83737-1261-4331-bf31-74d5dde089e6"
      },
      "execution_count": 22,
      "outputs": [
        {
          "output_type": "stream",
          "name": "stdout",
          "text": [
            "Epoch  {0} Loss  {0.2954838583763344}\n",
            "Epoch  {1000} Loss  {0.037328472564785706}\n",
            "Epoch  {2000} Loss  {0.01712116676779198}\n",
            "Epoch  {3000} Loss  {0.01067677523159516}\n",
            "Epoch  {4000} Loss  {0.007639291854785956}\n",
            "Epoch  {5000} Loss  {0.005902750086541809}\n",
            "Epoch  {6000} Loss  {0.004788889680960077}\n",
            "Epoch  {7000} Loss  {0.004017819817791941}\n",
            "Epoch  {8000} Loss  {0.0034543338687722217}\n",
            "Epoch  {9000} Loss  {0.0030255584635815905}\n",
            "Epoch  {10000} Loss  {0.002688914374103764}\n",
            "Epoch  {11000} Loss  {0.0024179307102993415}\n",
            "Epoch  {12000} Loss  {0.0021953211241353124}\n",
            "Epoch  {13000} Loss  {0.0020093366636326875}\n",
            "Epoch  {14000} Loss  {0.0018517229503842714}\n",
            "Epoch  {15000} Loss  {0.0017165166231575008}\n",
            "Epoch  {16000} Loss  {0.001599305546089563}\n",
            "Epoch  {17000} Loss  {0.0014967573832548211}\n",
            "Epoch  {18000} Loss  {0.0014063097093364703}\n",
            "Epoch  {19000} Loss  {0.0013259607214554819}\n"
          ]
        }
      ]
    },
    {
      "cell_type": "code",
      "source": [
        "# Test the trained model\n",
        "output = nn.feedforward(X)\n",
        "print('Predictions after training: ')\n",
        "print(output)"
      ],
      "metadata": {
        "colab": {
          "base_uri": "https://localhost:8080/"
        },
        "id": "LrHEf0UAZOAw",
        "outputId": "1294e6da-fe92-4b32-8391-5633077588dc"
      },
      "execution_count": 23,
      "outputs": [
        {
          "output_type": "stream",
          "name": "stdout",
          "text": [
            "Predictions after training: \n",
            "[[0.9999241 ]\n",
            " [0.96165078]\n",
            " [0.96165078]\n",
            " [0.04555401]]\n"
          ]
        }
      ]
    }
  ]
}